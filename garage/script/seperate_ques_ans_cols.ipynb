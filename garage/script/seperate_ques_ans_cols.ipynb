{
 "cells": [
  {
   "cell_type": "code",
   "execution_count": null,
   "id": "f0524d40",
   "metadata": {},
   "outputs": [],
   "source": [
    "import pandas as pd\n",
    "import numpy as np\n",
    "\n",
    "from catboost import CatBoostRegressor, Pool\n",
    "from sklearn.model_selection import GridSearchCV, cross_val_score\n",
    "from sklearn.model_selection import train_test_split\n",
    "from sklearn.metrics import mean_squared_error, r2_score\n",
    "import joblib\n",
    "\n",
    "pd.set_option('display.max_columns', None)\n",
    "Data = pd.read_csv('../data/data_with_merged_cols_garage.csv')\n",
    "Data"
   ]
  },
  {
   "cell_type": "code",
   "execution_count": null,
   "id": "3bf65530",
   "metadata": {},
   "outputs": [],
   "source": [
    "Data_F = Data.copy()\n",
    "Data_F"
   ]
  },
  {
   "cell_type": "code",
   "execution_count": null,
   "id": "486ed287",
   "metadata": {},
   "outputs": [],
   "source": [
    "import re\n",
    "\n",
    "# Define all possible question patterns and their desired column headers\n",
    "questions = {\n",
    "    \"Where is the existing garage located\\\\?\": \"Where is the existing garage located?\",\n",
    "    \"How big is the garage to be converted\\\\?\": \"How big is the garage to be converted?\",\n",
    "    \"What are you planning to use the converted garage for\\\\?\": \"What are you planning to use the converted garage for?\",\n",
    "    \"Do you have plans drawn up\\\\?\": \"Do you have plans drawn up?\",\n",
    "    \"What is the planning permission status for this job\\\\?\": \"What is the planning permission status for this job?\",\n",
    "     \"How likely are you to make a hiring decision\\\\?\": \"How likely are you to make a hiring decision?\"\n",
    "\n",
    "}\n",
    "\n",
    "# Function to extract answers for each row\n",
    "def extract_answers(row):\n",
    "    extracted = {v: None for v in questions.values()}\n",
    "    pattern = \"(\" + \"|\".join(questions.keys()) + \")\"\n",
    "    parts = re.split(pattern, row)\n",
    "\n",
    "    i = 1\n",
    "    while i < len(parts) - 1:\n",
    "        q = parts[i].strip()\n",
    "        a = parts[i + 1].strip()\n",
    "        for k, v in questions.items():\n",
    "            if re.fullmatch(k, q):\n",
    "                if extracted[v] is None:\n",
    "                    extracted[v] = a\n",
    "                elif v == \"Additional Details\":\n",
    "                    # Append multiple Additional Details if present\n",
    "                    extracted[v] += \" | \" + a\n",
    "        i += 2\n",
    "\n",
    "    return pd.Series(extracted)\n",
    "\n",
    "# Apply the function to your DataFrame\n",
    "result_df = Data['Que/Ans'].apply(extract_answers)\n",
    "# Clean encoding artifacts (like Â, â€¦, etc.)\n",
    "result_df = result_df.replace({r'[^\\x00-\\x7F]+': ''}, regex=True)\n",
    "\n",
    "# Preview the cleaned DataFrame\n",
    "result_df.head()"
   ]
  },
  {
   "cell_type": "code",
   "execution_count": null,
   "id": "f0872870",
   "metadata": {},
   "outputs": [],
   "source": [
    "Data = pd.concat([Data, result_df], axis=1)"
   ]
  },
  {
   "cell_type": "code",
   "execution_count": null,
   "id": "49e70ad2",
   "metadata": {},
   "outputs": [],
   "source": [
    "columns_to_drop = [\n",
    "    'Time','Que/Ans','Category','Additional Details'\n",
    "]\n",
    "\n",
    "# Drop the columns (if they exist in the DataFrame)\n",
    "Data = Data.drop(columns=[col for col in columns_to_drop if col in Data.columns])\n",
    "\n",
    "pd.set_option('display.max_columns', None)  # Show all columns\n",
    "# pd.set_option('display.max_rows', None)   # Show all rows\n",
    "\n",
    "\n",
    "df = pd.DataFrame(Data)\n",
    "df.to_csv('../data/sample_data_for_prediction_garage.csv', index=False)\n",
    "\n",
    "df\n"
   ]
  }
 ],
 "metadata": {
  "kernelspec": {
   "display_name": "env",
   "language": "python",
   "name": "python3"
  },
  "language_info": {
   "codemirror_mode": {
    "name": "ipython",
    "version": 3
   },
   "file_extension": ".py",
   "mimetype": "text/x-python",
   "name": "python",
   "nbconvert_exporter": "python",
   "pygments_lexer": "ipython3",
   "version": "3.13.3"
  }
 },
 "nbformat": 4,
 "nbformat_minor": 5
}
