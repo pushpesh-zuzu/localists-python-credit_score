{
  "cells": [
    {
      "cell_type": "code",
      "execution_count": null,
      "id": "UxYiv3Hce5ds",
      "metadata": {
        "id": "UxYiv3Hce5ds"
      },
      "outputs": [],
      "source": [
        "import warnings\n",
        "warnings.filterwarnings(\"ignore\")"
      ]
    },
    {
      "cell_type": "code",
      "execution_count": null,
      "id": "ger4qOqSe5dv",
      "metadata": {
        "id": "ger4qOqSe5dv"
      },
      "outputs": [],
      "source": [
        "import pandas as pd\n",
        "import numpy as np\n",
        "\n",
        "from catboost import CatBoostRegressor, Pool\n",
        "from sklearn.model_selection import GridSearchCV, cross_val_score\n",
        "from sklearn.model_selection import train_test_split\n",
        "from sklearn.metrics import mean_squared_error, r2_score\n",
        "import joblib"
      ]
    },
    {
      "cell_type": "code",
      "execution_count": null,
      "id": "SBSNAXW6e5dv",
      "metadata": {
        "id": "SBSNAXW6e5dv"
      },
      "outputs": [],
      "source": [
        "pd.set_option('display.max_columns', None)"
      ]
    },
    {
      "cell_type": "code",
      "execution_count": null,
      "id": "Z4BezwHXe5dw",
      "metadata": {
        "id": "Z4BezwHXe5dw"
      },
      "outputs": [],
      "source": [
        "Data = pd.read_csv('../data/artificial_grass_data.csv')"
      ]
    },
    {
      "cell_type": "code",
      "execution_count": null,
      "id": "t64LWebIe5dw",
      "metadata": {
        "colab": {
          "base_uri": "https://localhost:8080/",
          "height": 1000
        },
        "id": "t64LWebIe5dw",
        "outputId": "5712564c-4c8e-4b76-b2ff-ae6081625160",
        "scrolled": true
      },
      "outputs": [],
      "source": [
        "Data"
      ]
    },
    {
      "cell_type": "code",
      "execution_count": null,
      "id": "b_kptLTEPTAq",
      "metadata": {
        "id": "b_kptLTEPTAq"
      },
      "outputs": [],
      "source": [
        "Data_F = Data.copy()"
      ]
    },
    {
      "cell_type": "code",
      "execution_count": null,
      "id": "qcBNuJtcPYyy",
      "metadata": {
        "colab": {
          "base_uri": "https://localhost:8080/",
          "height": 1000
        },
        "id": "qcBNuJtcPYyy",
        "outputId": "8ea1d6a2-525a-425d-a44b-c575243f26ba"
      },
      "outputs": [],
      "source": [
        "Data_F"
      ]
    },
    {
      "cell_type": "code",
      "execution_count": null,
      "id": "HyIERC_vpHDu",
      "metadata": {
        "colab": {
          "base_uri": "https://localhost:8080/",
          "height": 701
        },
        "id": "HyIERC_vpHDu",
        "outputId": "46d6342c-7d02-43b1-d0f8-33f141403335"
      },
      "outputs": [],
      "source": [
        "import pandas as pd\n",
        "import re\n",
        "\n",
        "# Cleaned question labels\n",
        "question_labels = {\n",
        "    \"What type of property is this for\\\\?\": \"What type of property is this for?\",\n",
        "    \"How big is the area where you want artificial grass\\\\?\": \"How big is the area where you want artificial grass?\",\n",
        "    \"What kind of preparation needs to be done before installing the turf\\\\?\": \"What kind of preparation needs to be done before installing the turf?\",\n",
        "    \"What kind of artificial grass do you need\\\\?\": \"What kind of artificial grass do you need?\",\n",
        "    \"When would you like the work to be done\\\\?\": \"When would you like the work to be done?\",\n",
        "    \"How likely are you to hire a professional\\\\?\": \"How likely are you to hire a professional?\",\n",
        "    \"Additional details[:]?\": \"Additional Details\"\n",
        "}\n",
        "\n",
        "# Precompile full question matching pattern\n",
        "question_regex = \"(\" + \"|\".join(question_labels.keys()) + \")\"\n",
        "compiled_pattern = re.compile(question_regex, flags=re.IGNORECASE)\n",
        "\n",
        "# Clean answer text\n",
        "def clean_answer(text):\n",
        "    return re.sub(r'^[^\\w\\d]*', '', text).strip() if isinstance(text, str) else text\n",
        "\n",
        "# Extractor function\n",
        "def extract_answers(row_text):\n",
        "    parts = compiled_pattern.split(row_text)\n",
        "    parts = [p for p in parts if p and p.strip()]\n",
        "\n",
        "    extracted = {label: None for label in question_labels.values()}\n",
        "\n",
        "    i = 0\n",
        "    while i < len(parts) - 1:\n",
        "        question_match = parts[i].strip()\n",
        "        answer_text = parts[i + 1].strip() if i + 1 < len(parts) else ''\n",
        "        for q_pattern, q_label in question_labels.items():\n",
        "            if re.fullmatch(q_pattern, question_match, flags=re.IGNORECASE):\n",
        "                if not extracted[q_label]:\n",
        "                    extracted[q_label] = clean_answer(answer_text)\n",
        "        i += 2\n",
        "\n",
        "    return pd.Series(extracted)\n",
        "\n",
        "# Apply to dataframe\n",
        "result_df = Data['Que/Ans'].apply(extract_answers)\n",
        "\n",
        "# View result\n",
        "result_df\n"
      ]
    },
    {
      "cell_type": "code",
      "execution_count": null,
      "id": "lWjXix8sQ5pj",
      "metadata": {
        "id": "lWjXix8sQ5pj"
      },
      "outputs": [],
      "source": [
        "Data = pd.concat([Data, result_df], axis=1)"
      ]
    },
    {
      "cell_type": "code",
      "execution_count": null,
      "id": "0PWtvf0JQ7_b",
      "metadata": {
        "colab": {
          "base_uri": "https://localhost:8080/",
          "height": 1000
        },
        "id": "0PWtvf0JQ7_b",
        "outputId": "0c162020-cc49-453c-adc7-6222833540fe"
      },
      "outputs": [],
      "source": [
        "Data"
      ]
    },
    {
      "cell_type": "code",
      "execution_count": null,
      "id": "63c03183",
      "metadata": {},
      "outputs": [],
      "source": [
        "Datak = Data\n",
        "columns_to_drop = ['S.no', 'Response','Country','Additional Details',\n",
        "    'Initial', 'Name','Time', 'Badge 1','Additional','Credits',\n",
        "    'Badge 2', 'Badge 3', 'Badge 4', 'Category', 'Que/Ans'\n",
        "]\n",
        "\n",
        "# Drop the columns (if they exist in the DataFrame)\n",
        "Datak = Datak.drop(columns=[col for col in columns_to_drop if col in Datak.columns])\n",
        "\n",
        "Datak.to_csv(\"../data/sample_data_for_prediction_artificial_grass.csv\", index=False)"
      ]
    },
    {
      "cell_type": "code",
      "execution_count": null,
      "id": "vPrNqtoCSihv",
      "metadata": {
        "id": "vPrNqtoCSihv"
      },
      "outputs": [],
      "source": [
        "columns_to_drop = ['Location', 'S.no', 'Lead Id', 'Response','Country','Additional Details',\n",
        "    'Initial', 'Name','Time', 'Badge 1','Additional',\n",
        "    'Badge 2', 'Badge 3', 'Badge 4', 'Category', 'Que/Ans'\n",
        "]\n",
        "\n",
        "# Drop the columns (if they exist in the DataFrame)\n",
        "Data = Data.drop(columns=[col for col in columns_to_drop if col in Data.columns])"
      ]
    },
    {
      "cell_type": "code",
      "execution_count": null,
      "id": "f2jACsyne5dx",
      "metadata": {
        "colab": {
          "base_uri": "https://localhost:8080/"
        },
        "id": "f2jACsyne5dx",
        "outputId": "83b3cb3d-8fbe-44ec-c82b-b8918b7d0f6c"
      },
      "outputs": [],
      "source": [
        "Data"
      ]
    },
    {
      "cell_type": "code",
      "execution_count": null,
      "id": "nSjD-Yk5e5dz",
      "metadata": {
        "id": "nSjD-Yk5e5dz"
      },
      "outputs": [],
      "source": [
        "# Load dataset\n",
        "df = Data\n",
        "\n",
        "# Define target variable\n",
        "target = \"Credits\"\n",
        "\n",
        "# Define features\n",
        "features = [\n",
        "       'Urgent', 'High', 'Verified', 'Frequent',\n",
        "       'What type of property is this for?',\n",
        "       'How big is the area where you want artificial grass?',\n",
        "       'What kind of preparation needs to be done before installing the turf?',\n",
        "       'What kind of artificial grass do you need?',\n",
        "       'When would you like the work to be done?',\n",
        "       'How likely are you to hire a professional?']\n"
      ]
    },
    {
      "cell_type": "code",
      "execution_count": null,
      "id": "rZeU4S6Xe5dz",
      "metadata": {
        "id": "rZeU4S6Xe5dz"
      },
      "outputs": [],
      "source": [
        "# Drop rows with missing target values\n",
        "df = df.dropna(subset=[target])"
      ]
    },
    {
      "cell_type": "code",
      "execution_count": null,
      "id": "AuFYJjzee5dz",
      "metadata": {
        "id": "AuFYJjzee5dz"
      },
      "outputs": [],
      "source": [
        "\n",
        "# Identify categorical and numerical features\n",
        "cat_features = df[features].select_dtypes(include=['object']).columns.tolist()\n",
        "num_features = df[features].select_dtypes(include=['int64', 'float64']).columns.tolist()\n",
        "\n",
        "print(cat_features)\n",
        "print(num_features)"
      ]
    },
    {
      "cell_type": "code",
      "execution_count": null,
      "id": "JZkXQlWEe5d0",
      "metadata": {
        "id": "JZkXQlWEe5d0"
      },
      "outputs": [],
      "source": [
        "\n",
        "# Fill missing values\n",
        "df[cat_features] = df[cat_features].fillna(\"Unknown\")\n",
        "df[num_features] = df[num_features].fillna(df[num_features].median())\n",
        "\n",
        "print(df)"
      ]
    },
    {
      "cell_type": "code",
      "execution_count": null,
      "id": "J_NjhPTXe5d0",
      "metadata": {
        "id": "J_NjhPTXe5d0"
      },
      "outputs": [],
      "source": [
        "\n",
        "# Train-test split\n",
        "X_train, X_test, y_train, y_test = train_test_split(df[features], df[target], test_size=0.2, random_state=42)\n",
        "\n",
        "# Convert to CatBoost Pool format\n",
        "train_pool = Pool(X_train, label=y_train, cat_features=cat_features)\n",
        "test_pool = Pool(X_test, label=y_test, cat_features=cat_features)\n"
      ]
    },
    {
      "cell_type": "code",
      "execution_count": null,
      "id": "zIUeHzqle5d0",
      "metadata": {
        "id": "zIUeHzqle5d0"
      },
      "outputs": [],
      "source": [
        "\n",
        "# Initialize CatBoost model\n",
        "model = CatBoostRegressor(\n",
        "    iterations=500,\n",
        "    learning_rate=0.05,\n",
        "    depth=8,\n",
        "    loss_function='RMSE',\n",
        "    cat_features=cat_features,\n",
        "    verbose=100\n",
        ")"
      ]
    },
    {
      "cell_type": "code",
      "execution_count": null,
      "id": "sbhzTiD7e5d0",
      "metadata": {
        "colab": {
          "base_uri": "https://localhost:8080/"
        },
        "id": "sbhzTiD7e5d0",
        "outputId": "22baa1fb-1a45-456e-8e95-05b60eaec447"
      },
      "outputs": [],
      "source": [
        "# Train model\n",
        "model.fit(train_pool, eval_set=test_pool, early_stopping_rounds=50)"
      ]
    },
    {
      "cell_type": "code",
      "execution_count": null,
      "id": "MYq2hjqPe5d0",
      "metadata": {
        "id": "MYq2hjqPe5d0"
      },
      "outputs": [],
      "source": [
        "# Make predictions\n",
        "y_pred = model.predict(X_test)"
      ]
    },
    {
      "cell_type": "code",
      "execution_count": null,
      "id": "1fiK-vt6e5d0",
      "metadata": {
        "id": "1fiK-vt6e5d0"
      },
      "outputs": [],
      "source": [
        "\n",
        "# Evaluate model\n",
        "rmse = np.sqrt(mean_squared_error(y_test, y_pred))\n",
        "r2 = r2_score(y_test, y_pred)"
      ]
    },
    {
      "cell_type": "code",
      "execution_count": null,
      "id": "O3wH0Tjze5d0",
      "metadata": {
        "colab": {
          "base_uri": "https://localhost:8080/"
        },
        "id": "O3wH0Tjze5d0",
        "outputId": "4a04d807-151c-4cf5-9eaa-f72a86653d1c"
      },
      "outputs": [],
      "source": [
        "print(f\"RMSE: {rmse}\")\n",
        "print(f\"R2 Score: {r2}\")"
      ]
    },
    {
      "cell_type": "code",
      "execution_count": null,
      "id": "rR9OE7J1a5Go",
      "metadata": {
        "id": "rR9OE7J1a5Go"
      },
      "outputs": [],
      "source": [
        "validated = df[features]"
      ]
    },
    {
      "cell_type": "code",
      "execution_count": null,
      "id": "XHw918fua5Pv",
      "metadata": {
        "id": "XHw918fua5Pv"
      },
      "outputs": [],
      "source": [
        "# Make predictions on NewData without specifying cat_features\n",
        "NewDataPrediction = model.predict(df[features])"
      ]
    },
    {
      "cell_type": "code",
      "execution_count": null,
      "id": "o1WgmL_Sa4_3",
      "metadata": {
        "colab": {
          "base_uri": "https://localhost:8080/",
          "height": 547
        },
        "id": "o1WgmL_Sa4_3",
        "outputId": "44d1dc9e-5ebc-4b8f-bcd8-a2f01b144e15"
      },
      "outputs": [],
      "source": [
        "import catboost\n",
        "import numpy as np\n",
        "import pandas as pd\n",
        "\n",
        "# Get SHAP values, including the base value, for all records in NewData\n",
        "shap_values = model.get_feature_importance(\n",
        "    data=catboost.Pool(validated, cat_features=cat_features),\n",
        "    type=\"ShapValues\"\n",
        ")\n",
        "\n",
        "# Get predicted values\n",
        "predicted_values = model.predict(validated)\n",
        "\n",
        "# Convert SHAP values to DataFrame (include base value)\n",
        "shap_columns = list(validated.columns) + [\"base_value\"]\n",
        "shap_df = pd.DataFrame(shap_values, columns=shap_columns)\n",
        "\n",
        "# Add predicted values column\n",
        "shap_df[\"predicted_value\"] = predicted_values\n",
        "\n",
        "# Display SHAP values with predictions\n",
        "shap_df  # Show SHAP values for the first few records including prediction\n",
        "\n",
        "\n"
      ]
    },
    {
      "cell_type": "code",
      "execution_count": null,
      "id": "yUb8iRYRa41_",
      "metadata": {
        "id": "yUb8iRYRa41_"
      },
      "outputs": [],
      "source": [
        "shap_df1 = shap_df.merge(Data_F[[\"Credits\",\"Lead Id\"]], left_index=True, right_index=True)"
      ]
    },
    {
      "cell_type": "code",
      "execution_count": null,
      "id": "T9uwU9fGbkEv",
      "metadata": {
        "colab": {
          "base_uri": "https://localhost:8080/",
          "height": 547
        },
        "id": "T9uwU9fGbkEv",
        "outputId": "4abbe810-5828-4542-d908-cd5195d60795"
      },
      "outputs": [],
      "source": [
        "shap_df1"
      ]
    },
    {
      "cell_type": "code",
      "execution_count": null,
      "id": "yAyijcKUpRT-",
      "metadata": {
        "id": "yAyijcKUpRT-"
      },
      "outputs": [],
      "source": [
        "shap_df1.to_csv(\"../data/New_Scores_Artificial_Grass_Installation.csv\", index=False)"
      ]
    },
    {
      "cell_type": "code",
      "execution_count": null,
      "id": "u8c60TmCe5d1",
      "metadata": {
        "colab": {
          "base_uri": "https://localhost:8080/"
        },
        "id": "u8c60TmCe5d1",
        "outputId": "7e50140d-20d9-4123-c91c-770d0deb0391"
      },
      "outputs": [],
      "source": [
        "# Save model\n",
        "joblib.dump(model, \"../../shared/models/artificial_grass.pkl\")\n",
        "\n",
        "print(\"Model saved successfully.\")"
      ]
    },
    {
      "cell_type": "code",
      "execution_count": null,
      "id": "2Rmuo0F9e5d1",
      "metadata": {
        "id": "2Rmuo0F9e5d1"
      },
      "outputs": [],
      "source": [
        "# Save the filtered dataset\n",
        "#df_results.to_csv(\"Scores_Actual_vs_Predicted.csv\", index=False)"
      ]
    }
  ],
  "metadata": {
    "colab": {
      "provenance": []
    },
    "kernelspec": {
      "display_name": "env",
      "language": "python",
      "name": "python3"
    },
    "language_info": {
      "codemirror_mode": {
        "name": "ipython",
        "version": 3
      },
      "file_extension": ".py",
      "mimetype": "text/x-python",
      "name": "python",
      "nbconvert_exporter": "python",
      "pygments_lexer": "ipython3",
      "version": "3.13.5"
    }
  },
  "nbformat": 4,
  "nbformat_minor": 5
}
