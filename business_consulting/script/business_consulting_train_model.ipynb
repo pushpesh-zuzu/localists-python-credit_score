{
  "cells": [
    {
      "cell_type": "code",
      "execution_count": null,
      "id": "UxYiv3Hce5ds",
      "metadata": {
        "id": "UxYiv3Hce5ds"
      },
      "outputs": [],
      "source": [
        "import warnings\n",
        "warnings.filterwarnings(\"ignore\")"
      ]
    },
    {
      "cell_type": "code",
      "execution_count": null,
      "id": "ger4qOqSe5dv",
      "metadata": {
        "id": "ger4qOqSe5dv"
      },
      "outputs": [],
      "source": [
        "import pandas as pd\n",
        "import numpy as np\n",
        "\n",
        "from catboost import CatBoostRegressor, Pool\n",
        "from sklearn.model_selection import GridSearchCV, cross_val_score\n",
        "from sklearn.model_selection import train_test_split\n",
        "from sklearn.metrics import mean_squared_error, r2_score\n",
        "import joblib"
      ]
    },
    {
      "cell_type": "code",
      "execution_count": null,
      "id": "SBSNAXW6e5dv",
      "metadata": {
        "id": "SBSNAXW6e5dv"
      },
      "outputs": [],
      "source": [
        "pd.set_option('display.max_columns', None)"
      ]
    },
    {
      "cell_type": "code",
      "execution_count": null,
      "id": "Z4BezwHXe5dw",
      "metadata": {
        "id": "Z4BezwHXe5dw"
      },
      "outputs": [],
      "source": [
        "Data = pd.read_csv('../data/business_consulting_data.csv')"
      ]
    },
    {
      "cell_type": "code",
      "execution_count": null,
      "id": "t64LWebIe5dw",
      "metadata": {
        "colab": {
          "base_uri": "https://localhost:8080/",
          "height": 1000
        },
        "id": "t64LWebIe5dw",
        "outputId": "325337b2-a674-4d69-db0c-29a82ba17dfd",
        "scrolled": true
      },
      "outputs": [],
      "source": [
        "Data"
      ]
    },
    {
      "cell_type": "code",
      "execution_count": null,
      "id": "b_kptLTEPTAq",
      "metadata": {
        "id": "b_kptLTEPTAq"
      },
      "outputs": [],
      "source": [
        "Data_F = Data.copy()"
      ]
    },
    {
      "cell_type": "code",
      "execution_count": null,
      "id": "qcBNuJtcPYyy",
      "metadata": {
        "colab": {
          "base_uri": "https://localhost:8080/",
          "height": 1000
        },
        "id": "qcBNuJtcPYyy",
        "outputId": "45e58c9d-a3ea-4123-e2cf-1e695cb30106"
      },
      "outputs": [],
      "source": [
        "Data_F"
      ]
    },
    {
      "cell_type": "code",
      "execution_count": null,
      "id": "Fq4SugMNcizg",
      "metadata": {
        "colab": {
          "base_uri": "https://localhost:8080/",
          "height": 536
        },
        "id": "Fq4SugMNcizg",
        "outputId": "86bd02eb-a45d-48b8-f4de-59862b2d3506"
      },
      "outputs": [],
      "source": [
        "import pandas as pd\n",
        "import re\n",
        "import html\n",
        "\n",
        "# Define your question patterns mapped to clean column names\n",
        "questions = {\n",
        "    \"Have you used business consulting services before\\\\?\": \"Have you used business consulting services before?\",\n",
        "    \"How long has the business been running\\\\?\": \"How long has the business been running?\",\n",
        "    \"What is the business's annual turnover/sales\\\\?\": \"What is the business annual turnover/sales?\",\n",
        "    \"How many employees do you have\\\\?\": \"How many employees do you have?\",\n",
        "    \"What industry is your business in\\\\?\": \"What industry is your business in?\",\n",
        "    \"Which type\\\\(s\\\\) of consulting are you interested in\\\\?\": \"Which type(s) of consulting are you interested in?\",\n",
        "    \"What are your goals for this service\\\\?\": \"What are your goals for this service?\",\n",
        "    \"How long do you need a consultant\\\\?\": \"How long do you need a consultant?\",\n",
        "    \"How would you like to work with the consultant\\\\?\": \"How would you like to work with the consultant?\",\n",
        "\n",
        "}\n",
        "\n",
        "# Function to extract answers\n",
        "def extract_answers(row):\n",
        "    extracted = {v: None for v in questions.values()}  # initialize all columns with None\n",
        "    if not row:\n",
        "        return pd.Series(extracted)\n",
        "\n",
        "    # Decode HTML characters (like &#039; -> ')\n",
        "    row = html.unescape(row)\n",
        "\n",
        "    # Clean unwanted encoding artifacts (like Â, â€™)\n",
        "    row = re.sub(r'[^\\x00-\\x7F]+', ' ', row)\n",
        "\n",
        "    # Split based on questions\n",
        "    pattern = \"(\" + \"|\".join(questions.keys()) + \")\"\n",
        "    parts = re.split(pattern, row)\n",
        "\n",
        "    i = 1\n",
        "    while i < len(parts) - 1:\n",
        "        q = parts[i].strip() if parts[i] else ''\n",
        "        a = parts[i + 1].strip() if parts[i + 1] else ''\n",
        "        for k, v in questions.items():\n",
        "            if re.fullmatch(k, q):\n",
        "                # If 'Additional details' already exists and new text comes, append\n",
        "                if v == \"Additional details\" and extracted[v]:\n",
        "                    extracted[v] += \" \" + a\n",
        "                else:\n",
        "                    extracted[v] = a\n",
        "        i += 2\n",
        "\n",
        "    return pd.Series(extracted)\n",
        "\n",
        "# Apply the function\n",
        "result_df = Data['Que/Ans'].apply(extract_answers)\n",
        "\n",
        "# Final cleaning (optional, just in case)\n",
        "result_df = result_df.replace({r'[^\\x00-\\x7F]+': ''}, regex=True)\n",
        "\n",
        "# Preview\n",
        "result_df.head()\n",
        "\n",
        "# Optional save\n",
        "# result_df.to_csv('cleaned_output.csv', index=False)\n",
        "# result_df.to_excel('cleaned_output.xlsx', index=False)\n"
      ]
    },
    {
      "cell_type": "code",
      "execution_count": null,
      "id": "lWjXix8sQ5pj",
      "metadata": {
        "id": "lWjXix8sQ5pj"
      },
      "outputs": [],
      "source": [
        "Data = pd.concat([Data, result_df], axis=1)"
      ]
    },
    {
      "cell_type": "code",
      "execution_count": null,
      "id": "0PWtvf0JQ7_b",
      "metadata": {
        "colab": {
          "base_uri": "https://localhost:8080/",
          "height": 1000
        },
        "id": "0PWtvf0JQ7_b",
        "outputId": "b565d80d-f8bb-461c-d234-8c133792fd6d"
      },
      "outputs": [],
      "source": [
        "Data"
      ]
    },
    {
      "cell_type": "code",
      "execution_count": null,
      "id": "d4453a12",
      "metadata": {},
      "outputs": [],
      "source": [
        "Datak = Data\n",
        "columns_to_drop = ['S.no', 'Response','Country','Additional Details',\n",
        "    'Initial', 'Name','Time', 'Badge 1','Additional','Credits',\n",
        "    'Badge 2', 'Badge 3', 'Badge 4', 'Category', 'Que/Ans'\n",
        "]\n",
        "\n",
        "# Drop the columns (if they exist in the DataFrame)\n",
        "Datak = Datak.drop(columns=[col for col in columns_to_drop if col in Datak.columns])\n",
        "\n",
        "Datak.to_csv(\"../data/sample_data_for_prediction_business_consulting.csv\", index=False)\n",
        "\n"
      ]
    },
    {
      "cell_type": "code",
      "execution_count": null,
      "id": "vPrNqtoCSihv",
      "metadata": {
        "id": "vPrNqtoCSihv"
      },
      "outputs": [],
      "source": [
        "columns_to_drop = ['S.no', 'Lead Id', 'Response','Country','Additional Details',\n",
        "    'Initial', 'Name','Time', 'Badge 1','Additional',\n",
        "    'Badge 2', 'Badge 3', 'Badge 4', 'Category', 'Que/Ans'\n",
        "]\n",
        "\n",
        "# Drop the columns (if they exist in the DataFrame)\n",
        "Data = Data.drop(columns=[col for col in columns_to_drop if col in Data.columns])"
      ]
    },
    {
      "cell_type": "code",
      "execution_count": null,
      "id": "f2jACsyne5dx",
      "metadata": {
        "colab": {
          "base_uri": "https://localhost:8080/"
        },
        "id": "f2jACsyne5dx",
        "outputId": "66015598-3a46-48fc-95a7-a15af86051b2"
      },
      "outputs": [],
      "source": [
        "Data.columns"
      ]
    },
    {
      "cell_type": "code",
      "execution_count": null,
      "id": "nSjD-Yk5e5dz",
      "metadata": {
        "id": "nSjD-Yk5e5dz"
      },
      "outputs": [],
      "source": [
        "# Load dataset\n",
        "df = Data\n",
        "\n",
        "# Define target variable\n",
        "target = \"Credits\"\n",
        "\n",
        "# Define features\n",
        "features = [\n",
        "   'Location', 'Urgent', 'High', 'Verified', 'Frequent',\n",
        "       'Have you used business consulting services before?',\n",
        "       'How long has the business been running?',\n",
        "       'What is the business annual turnover/sales?',\n",
        "       'How many employees do you have?', 'What industry is your business in?',\n",
        "       'Which type(s) of consulting are you interested in?',\n",
        "       'What are your goals for this service?',\n",
        "       'How long do you need a consultant?',\n",
        "       'How would you like to work with the consultant?']\n"
      ]
    },
    {
      "cell_type": "code",
      "execution_count": null,
      "id": "rZeU4S6Xe5dz",
      "metadata": {
        "id": "rZeU4S6Xe5dz"
      },
      "outputs": [],
      "source": [
        "# Drop rows with missing target values\n",
        "df = df.dropna(subset=[target])"
      ]
    },
    {
      "cell_type": "code",
      "execution_count": null,
      "id": "AuFYJjzee5dz",
      "metadata": {
        "id": "AuFYJjzee5dz"
      },
      "outputs": [],
      "source": [
        "\n",
        "# Identify categorical and numerical features\n",
        "cat_features = df[features].select_dtypes(include=['object']).columns.tolist()\n",
        "num_features = df[features].select_dtypes(include=['int64', 'float64']).columns.tolist()"
      ]
    },
    {
      "cell_type": "code",
      "execution_count": null,
      "id": "JZkXQlWEe5d0",
      "metadata": {
        "id": "JZkXQlWEe5d0"
      },
      "outputs": [],
      "source": [
        "\n",
        "# Fill missing values\n",
        "df[cat_features] = df[cat_features].fillna(\"Unknown\")\n",
        "df[num_features] = df[num_features].fillna(df[num_features].median())"
      ]
    },
    {
      "cell_type": "code",
      "execution_count": null,
      "id": "7845758a",
      "metadata": {},
      "outputs": [],
      "source": [
        "cat_features"
      ]
    },
    {
      "cell_type": "code",
      "execution_count": null,
      "id": "6c4e502f",
      "metadata": {},
      "outputs": [],
      "source": [
        "num_features"
      ]
    },
    {
      "cell_type": "code",
      "execution_count": null,
      "id": "J_NjhPTXe5d0",
      "metadata": {
        "id": "J_NjhPTXe5d0"
      },
      "outputs": [],
      "source": [
        "\n",
        "# Train-test split\n",
        "X_train, X_test, y_train, y_test = train_test_split(df[features], df[target], test_size=0.2, random_state=42)\n",
        "\n",
        "# Convert to CatBoost Pool format\n",
        "train_pool = Pool(X_train, label=y_train, cat_features=cat_features)\n",
        "test_pool = Pool(X_test, label=y_test, cat_features=cat_features)\n"
      ]
    },
    {
      "cell_type": "code",
      "execution_count": null,
      "id": "zIUeHzqle5d0",
      "metadata": {
        "id": "zIUeHzqle5d0"
      },
      "outputs": [],
      "source": [
        "\n",
        "# Initialize CatBoost model\n",
        "model = CatBoostRegressor(\n",
        "    iterations=500,\n",
        "    learning_rate=0.05,\n",
        "    depth=8,\n",
        "    loss_function='RMSE',\n",
        "    cat_features=cat_features,\n",
        "    verbose=100\n",
        ")"
      ]
    },
    {
      "cell_type": "code",
      "execution_count": null,
      "id": "sbhzTiD7e5d0",
      "metadata": {
        "colab": {
          "base_uri": "https://localhost:8080/"
        },
        "id": "sbhzTiD7e5d0",
        "outputId": "f9a4a406-a383-4257-a963-f43a0c82cbab"
      },
      "outputs": [],
      "source": [
        "# Train model\n",
        "model.fit(train_pool, eval_set=test_pool, early_stopping_rounds=50)"
      ]
    },
    {
      "cell_type": "code",
      "execution_count": null,
      "id": "MYq2hjqPe5d0",
      "metadata": {
        "id": "MYq2hjqPe5d0"
      },
      "outputs": [],
      "source": [
        "# Make predictions\n",
        "y_pred = model.predict(X_test)"
      ]
    },
    {
      "cell_type": "code",
      "execution_count": null,
      "id": "1fiK-vt6e5d0",
      "metadata": {
        "id": "1fiK-vt6e5d0"
      },
      "outputs": [],
      "source": [
        "\n",
        "# Evaluate model\n",
        "rmse = np.sqrt(mean_squared_error(y_test, y_pred))\n",
        "r2 = r2_score(y_test, y_pred)"
      ]
    },
    {
      "cell_type": "code",
      "execution_count": null,
      "id": "O3wH0Tjze5d0",
      "metadata": {
        "colab": {
          "base_uri": "https://localhost:8080/"
        },
        "id": "O3wH0Tjze5d0",
        "outputId": "9e084190-a093-40ef-b76c-f5609f82b086"
      },
      "outputs": [],
      "source": [
        "print(f\"RMSE: {rmse}\")\n",
        "print(f\"R2 Score: {r2}\")"
      ]
    },
    {
      "cell_type": "code",
      "execution_count": null,
      "id": "rR9OE7J1a5Go",
      "metadata": {
        "id": "rR9OE7J1a5Go"
      },
      "outputs": [],
      "source": [
        "validated = df[features]"
      ]
    },
    {
      "cell_type": "code",
      "execution_count": null,
      "id": "XHw918fua5Pv",
      "metadata": {
        "id": "XHw918fua5Pv"
      },
      "outputs": [],
      "source": [
        "# Make predictions on NewData without specifying cat_features\n",
        "NewDataPrediction = model.predict(df[features])"
      ]
    },
    {
      "cell_type": "code",
      "execution_count": null,
      "id": "o1WgmL_Sa4_3",
      "metadata": {
        "colab": {
          "base_uri": "https://localhost:8080/",
          "height": 530
        },
        "id": "o1WgmL_Sa4_3",
        "outputId": "f583e214-d58e-49e3-df94-07f5dcfbcc77"
      },
      "outputs": [],
      "source": [
        "import catboost\n",
        "import numpy as np\n",
        "import pandas as pd\n",
        "\n",
        "# Get SHAP values, including the base value, for all records in NewData\n",
        "shap_values = model.get_feature_importance(\n",
        "    data=catboost.Pool(validated, cat_features=cat_features),\n",
        "    type=\"ShapValues\"\n",
        ")\n",
        "\n",
        "# Get predicted values\n",
        "predicted_values = model.predict(validated)\n",
        "\n",
        "# Convert SHAP values to DataFrame (include base value)\n",
        "shap_columns = list(validated.columns) + [\"base_value\"]\n",
        "shap_df = pd.DataFrame(shap_values, columns=shap_columns)\n",
        "\n",
        "# Add predicted values column\n",
        "shap_df[\"predicted_value\"] = predicted_values\n",
        "\n",
        "# Display SHAP values with predictions\n",
        "shap_df  # Show SHAP values for the first few records including prediction\n",
        "\n",
        "\n"
      ]
    },
    {
      "cell_type": "code",
      "execution_count": null,
      "id": "yUb8iRYRa41_",
      "metadata": {
        "id": "yUb8iRYRa41_"
      },
      "outputs": [],
      "source": [
        "shap_df1 = shap_df.merge(Data_F[[\"Credits\",\"Lead Id\"]], left_index=True, right_index=True)"
      ]
    },
    {
      "cell_type": "code",
      "execution_count": null,
      "id": "29604dfc",
      "metadata": {},
      "outputs": [],
      "source": [
        "Datak"
      ]
    },
    {
      "cell_type": "code",
      "execution_count": null,
      "id": "T9uwU9fGbkEv",
      "metadata": {
        "colab": {
          "base_uri": "https://localhost:8080/",
          "height": 530
        },
        "id": "T9uwU9fGbkEv",
        "outputId": "bc713972-92d9-4ada-bd39-0218eb3e2637"
      },
      "outputs": [],
      "source": [
        "shap_df1"
      ]
    },
    {
      "cell_type": "code",
      "execution_count": null,
      "id": "yAyijcKUpRT-",
      "metadata": {
        "id": "yAyijcKUpRT-"
      },
      "outputs": [],
      "source": [
        "shap_df1.to_csv(\"../data/New_Scores_Business_Consulting.csv\", index=False)"
      ]
    },
    {
      "cell_type": "code",
      "execution_count": null,
      "id": "u8c60TmCe5d1",
      "metadata": {
        "colab": {
          "base_uri": "https://localhost:8080/"
        },
        "id": "u8c60TmCe5d1",
        "outputId": "f6383562-7d2c-4625-906c-31b0a5744a71"
      },
      "outputs": [],
      "source": [
        "# Save model\n",
        "joblib.dump(model, \"../model/business_consulting.pkl\")\n",
        "\n",
        "print(\"Model saved successfully.\")"
      ]
    },
    {
      "cell_type": "code",
      "execution_count": null,
      "id": "2Rmuo0F9e5d1",
      "metadata": {
        "id": "2Rmuo0F9e5d1"
      },
      "outputs": [],
      "source": [
        "# Save the filtered dataset\n",
        "#df_results.to_csv(\"Scores_Actual_vs_Predicted.csv\", index=False)"
      ]
    }
  ],
  "metadata": {
    "colab": {
      "provenance": []
    },
    "kernelspec": {
      "display_name": "env",
      "language": "python",
      "name": "python3"
    },
    "language_info": {
      "codemirror_mode": {
        "name": "ipython",
        "version": 3
      },
      "file_extension": ".py",
      "mimetype": "text/x-python",
      "name": "python",
      "nbconvert_exporter": "python",
      "pygments_lexer": "ipython3",
      "version": "3.13.5"
    }
  },
  "nbformat": 4,
  "nbformat_minor": 5
}
